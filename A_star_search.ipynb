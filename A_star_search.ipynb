{
  "nbformat": 4,
  "nbformat_minor": 0,
  "metadata": {
    "colab": {
      "provenance": []
    },
    "kernelspec": {
      "name": "python3",
      "display_name": "Python 3"
    },
    "language_info": {
      "name": "python"
    }
  },
  "cells": [
    {
      "cell_type": "code",
      "execution_count": null,
      "metadata": {
        "id": "H2Z6px5Ls859"
      },
      "outputs": [],
      "source": [
        "import math\n",
        "from queue import PriorityQueue"
      ]
    },
    {
      "cell_type": "code",
      "source": [
        "# Dictionary to store coordinates of each node\n",
        "coords = {} # node id is the key\n",
        "\n",
        "# Dictionary to store the adjacency list of each node\n",
        "adjlist = {} # node id is the key\n",
        "\n",
        "# Define the heuristic function to calculate Euclidean distance\n",
        "def euclidean_distance(node_id, goal_node):\n",
        "    x1, y1 = coords[node_id]\n",
        "    x2, y2 = coords[goal_node]\n",
        "    return math.sqrt((x2 - x1)**2 + (y2 - y1)**2)\n",
        "\n",
        "# Define a class to represent the state of each node during A* search\n",
        "class State:\n",
        "    def __init__(self, node_id, parent, g, f):\n",
        "        self.node_id = node_id\n",
        "        self.parent = parent\n",
        "        self.g = g # actual cost(starting to current)\n",
        "        self.f = f #sum of the g-score and heuristic value(estimated cost to goal)\n",
        "\n",
        "    def __lt__(self, other):\n",
        "        return self.f < other.f\n",
        "\n",
        "    def __eq__(self, other):\n",
        "        return self.node_id == other.node_id\n",
        "\n",
        "    def __str__(self):\n",
        "        return f\"{self.node_id} (g={self.g}, f={self.f})\""
      ],
      "metadata": {
        "id": "8LiDK2CstTnK"
      },
      "execution_count": null,
      "outputs": []
    },
    {
      "cell_type": "code",
      "source": [
        "def A_star_search(data_path, h_func):\n",
        "\n",
        "  # Read input from 'input.txt'\n",
        "  with open(data_path, 'r') as f:\n",
        "      # Read the number of vertices (nodes)\n",
        "      V = int(f.readline())\n",
        "      # Read and store coordinates for each node\n",
        "      for i in range(V):\n",
        "          strs = f.readline().split()\n",
        "          nid, x, y = strs[0], int(strs[1]), int(strs[2])\n",
        "          coords[nid] = (x, y)  # x, y kept as a tuple\n",
        "          adjlist[nid] = []  # create an empty list for each node's adjnodes\n",
        "\n",
        "      # Read the number of edges\n",
        "      E = int(f.readline())\n",
        "      # Read and store the edges and their costs in the adjacency list\n",
        "      for i in range(E):\n",
        "          strs = f.readline().split()\n",
        "          n1, n2, c = strs[0], strs[1], int(strs[2])\n",
        "          adjlist[n1].append((n2, c))  # (n2, c) tuple\n",
        "      # Read the starting and goal nodes\n",
        "      startnid = f.readline().rstrip()\n",
        "      goalnid = f.readline().rstrip()\n",
        "\n",
        "  # Print the graph information\n",
        "  print('Graph')\n",
        "  for nid in adjlist:\n",
        "      print(nid, coords[nid], '--->', adjlist[nid])\n",
        "      for tup in adjlist[nid]:\n",
        "          print('\\t', tup[0], tup[1])\n",
        "  print('Start', startnid, 'Goal', goalnid)\n",
        "  print(\" \")\n",
        "\n",
        "  # Priority Queue to store node states ordered by their total estimated cost (f)\n",
        "  minQ = PriorityQueue()\n",
        "\n",
        "  # Initialize start state\n",
        "  start_heuristic = h_func(startnid, goalnid)\n",
        "  start_state = State(startnid, None, 0, start_heuristic)\n",
        "\n",
        "  # Insert start state into the priority queue\n",
        "  minQ.put(start_state)\n",
        "\n",
        "\n",
        "  # A* search algorithm\n",
        "  while not minQ.empty():\n",
        "      # Extract the node state with the minimum total estimated cost (f)\n",
        "      curr_state = minQ.get()\n",
        "\n",
        "      if curr_state.node_id == goalnid:\n",
        "          # Goal reached! print the solution path and cost\n",
        "          print(\"Solution path:\", end=' ')\n",
        "          path = []\n",
        "          path_cost = curr_state.g\n",
        "          while curr_state:\n",
        "              path.append(curr_state.node_id)\n",
        "              curr_state = curr_state.parent\n",
        "          path.reverse()\n",
        "          print(\" -> \".join(path))\n",
        "          print(\"Solution cost:\", path_cost)\n",
        "          break\n",
        "\n",
        "      # For each adjacent node to curr_state.node\n",
        "      for neighbor, edge_cost in adjlist[curr_state.node_id]:\n",
        "          # Calculate new costs\n",
        "          g = curr_state.g + edge_cost\n",
        "          h = h_func(neighbor, goalnid)\n",
        "          f = g + h\n",
        "          # Create a new state for the neighbor node\n",
        "          new_state = State(neighbor, curr_state, g, f)\n",
        "          # Insert the new state into the priority queue\n",
        "          minQ.put(new_state)"
      ],
      "metadata": {
        "id": "w8irc72mtTsb"
      },
      "execution_count": null,
      "outputs": []
    },
    {
      "cell_type": "code",
      "source": [
        "A_star_search(\"input-1.txt\", euclidean_distance)"
      ],
      "metadata": {
        "id": "o6pjM1ge1wvb",
        "outputId": "b385a6ca-7b66-4b68-8d38-7f33b275b1a6",
        "colab": {
          "base_uri": "https://localhost:8080/"
        }
      },
      "execution_count": null,
      "outputs": [
        {
          "output_type": "stream",
          "name": "stdout",
          "text": [
            "Graph\n",
            "S (6, 0) ---> [('A', 1), ('C', 2), ('D', 4)]\n",
            "\t A 1\n",
            "\t C 2\n",
            "\t D 4\n",
            "A (6, 0) ---> [('B', 2)]\n",
            "\t B 2\n",
            "B (1, 0) ---> [('A', 2), ('G', 1)]\n",
            "\t A 2\n",
            "\t G 1\n",
            "C (2, 0) ---> [('S', 2), ('G', 4)]\n",
            "\t S 2\n",
            "\t G 4\n",
            "D (1, 0) ---> [('G', 4)]\n",
            "\t G 4\n",
            "G (0, 0) ---> []\n",
            "Start S Goal G\n",
            " \n",
            "Solution path: S -> C -> G\n",
            "Solution cost: 6\n"
          ]
        }
      ]
    },
    {
      "cell_type": "code",
      "source": [
        "#input-1\n",
        "'''\n",
        "S\n",
        "S 6 0\n",
        "A 6 0\n",
        "B 1 0\n",
        "C 2 0\n",
        "D 1 0\n",
        "G 0 0\n",
        "9\n",
        "S A 1\n",
        "S C 2\n",
        "S D 4\n",
        "A B 2\n",
        "B A 2\n",
        "B G 1\n",
        "C S 2\n",
        "C G 4\n",
        "D G 4\n",
        "S\n",
        "G\n",
        "'''\n",
        "#input-2\n",
        "'''\n",
        "3\n",
        "S 1 2\n",
        "A 2 2\n",
        "G 4 5\n",
        "3\n",
        "S A 1\n",
        "A G 1\n",
        "S G 10\n",
        "S\n",
        "G\n",
        "'''"
      ],
      "metadata": {
        "id": "-vD9iCDZQ2wO",
        "colab": {
          "base_uri": "https://localhost:8080/",
          "height": 36
        },
        "outputId": "6b8f6812-2d7e-4e1f-dde8-b0b5bb04daaf"
      },
      "execution_count": null,
      "outputs": [
        {
          "output_type": "execute_result",
          "data": {
            "text/plain": [
              "'\\n3\\nS 1 2\\nA 2 2\\nG 4 5\\n3\\nS A 1\\nA G 1\\nS G 10\\nS\\nG\\n'"
            ],
            "application/vnd.google.colaboratory.intrinsic+json": {
              "type": "string"
            }
          },
          "metadata": {},
          "execution_count": 41
        }
      ]
    }
  ]
}