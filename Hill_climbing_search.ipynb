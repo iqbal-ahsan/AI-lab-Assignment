{
  "nbformat": 4,
  "nbformat_minor": 0,
  "metadata": {
    "colab": {
      "provenance": []
    },
    "kernelspec": {
      "name": "python3",
      "display_name": "Python 3"
    },
    "language_info": {
      "name": "python"
    }
  },
  "cells": [
    {
      "cell_type": "code",
      "execution_count": 69,
      "metadata": {
        "colab": {
          "base_uri": "https://localhost:8080/"
        },
        "id": "32CpbbAnfU0H",
        "outputId": "0fb99703-81cc-4cf6-fee2-d8d517c52172"
      },
      "outputs": [
        {
          "output_type": "stream",
          "name": "stdout",
          "text": [
            "Hill Climbing Search. AI assignment 2 by Iqbal Ahsan\n"
          ]
        }
      ],
      "source": [
        "print(\"Hill Climbing Search. AI assignment 2 by Iqbal Ahsan\")\n"
      ]
    },
    {
      "cell_type": "code",
      "source": [
        "import random\n",
        "import math\n",
        "import copy"
      ],
      "metadata": {
        "id": "vgXyeJVheMr1"
      },
      "execution_count": 70,
      "outputs": []
    },
    {
      "cell_type": "code",
      "source": [
        "initial_state = [[3, 1, 2], ##define initial state\n",
        "                 [6, 4, 5],\n",
        "                 [0, 7, 8]]\n",
        "\n",
        "#define goal state\n",
        "goal_state = [[0, 1, 2],\n",
        "              [3, 4, 5],\n",
        "              [6, 7, 8]]"
      ],
      "metadata": {
        "id": "WB7OnxMDeXC_"
      },
      "execution_count": 71,
      "outputs": []
    },
    {
      "cell_type": "code",
      "source": [
        "#Define successors function\n",
        "def successors(state):\n",
        "  successors = []\n",
        "  blank_row, blank_col = find_blank(state)\n",
        "  moves = [(0, -1), (0, 1),(-1, 0), (1, 0)] #left, right, up, down\n",
        "  for dr, dc in moves:     #dr->delta row. dc->delta column\n",
        "      new_row, new_col = blank_row + dr, blank_col + dc\n",
        "      if 0 <= new_row < 3 and 0 <= new_col < 3:\n",
        "          new_state = copy.deepcopy(state)\n",
        "          new_state[blank_row][blank_col],new_state[new_row][new_col] = new_state[new_row][new_col], new_state[blank_row][blank_col]\n",
        "          successors.append(new_state)\n",
        "  return successors"
      ],
      "metadata": {
        "id": "YX9tIqyMfjZB"
      },
      "execution_count": 72,
      "outputs": []
    },
    {
      "cell_type": "code",
      "source": [
        "def find_blank(state):\n",
        "  for i in range(3):\n",
        "    for j in range(3):\n",
        "      if state[i][j] == 0:\n",
        "        return i, j"
      ],
      "metadata": {
        "id": "MFJGz-R5wKHY"
      },
      "execution_count": 73,
      "outputs": []
    },
    {
      "cell_type": "code",
      "source": [
        "#define heuristics function\n",
        "def misplace_tiles(state):\n",
        "  misplaced = 0\n",
        "  for i in range(3):\n",
        "    for j in range(3):\n",
        "      if state[i][j] != 0 and state[i][j] != goal_state[i][j]:\n",
        "        misplaced +=1\n",
        "\n",
        "  return misplaced"
      ],
      "metadata": {
        "id": "9zenX6HEikRa"
      },
      "execution_count": 74,
      "outputs": []
    },
    {
      "cell_type": "code",
      "source": [
        "#define manhattan_distance\n",
        "def manhattan_distance(state):\n",
        "  distance = 0\n",
        "  for i in range(3):\n",
        "    for j in range(3):\n",
        "      if state[i][j] != 0:\n",
        "        goal_row, goal_col = divmod(state[i][j], 3)\n",
        "        distance += abs(i - goal_row) + abs(j - goal_col)\n",
        "\n",
        "  return distance"
      ],
      "metadata": {
        "id": "uLmdaj4AjJzt"
      },
      "execution_count": 75,
      "outputs": []
    },
    {
      "cell_type": "code",
      "source": [
        "def hill_climbing(initial_state, heuristic_function, max_iterations = 1000):\n",
        "  current_state = initial_state\n",
        "  iterations = 0\n",
        "  while iterations < max_iterations:\n",
        "      iterations +=1\n",
        "      if current_state == goal_state:\n",
        "          print(\"Solution found after\", iterations, \"iterations.\")\n",
        "          break\n",
        "\n",
        "      successors_states = successors(current_state)\n",
        "      successors_with_heuristic = [(successor, heuristic_function(successor)) for successor in successors_states]\n",
        "      successors_with_heuristic.sort(key=lambda x:x[1])\n",
        "      next_state, next_heuristics = successors_with_heuristic[0]\n",
        "      if next_heuristics >= heuristic_function(current_state):\n",
        "        print(\"Local maximum reached after\", iterations, \"iterations.\")\n",
        "        break\n",
        "\n",
        "      current_state = next_state\n",
        "      print(\"Iteration\", iterations, \": Neighbor\", current_state, \"h=\", next_heuristics)\n",
        "\n",
        "  else:\n",
        "      print(\"Max number of Iteration reached.\")\n",
        "\n",
        "\n",
        "     # current_state = next_state\n",
        "     # print(\"neighbor\", current_state, \"h=\",next_heuristics)\n",
        "\n",
        "  print(\" \")\n",
        "  print(\"Solution\", current_state, \"h=\",heuristic_function(current_state))\n"
      ],
      "metadata": {
        "id": "cuQPfAOdj-db"
      },
      "execution_count": 76,
      "outputs": []
    },
    {
      "cell_type": "markdown",
      "source": [
        "##Hill Climbing"
      ],
      "metadata": {
        "id": "5a4_LuuqKYZs"
      }
    },
    {
      "cell_type": "code",
      "source": [
        "print(\"Hill Climbing with Misplace Tiles:\")\n",
        "hill_climbing(initial_state, misplace_tiles)\n",
        "print(\"\\n\\n\")\n",
        "print(\"Hill Climbing with Manhattan Distance:\")\n",
        "hill_climbing(initial_state, manhattan_distance)"
      ],
      "metadata": {
        "colab": {
          "base_uri": "https://localhost:8080/"
        },
        "id": "4_fMxdL0G3Zk",
        "outputId": "41baee3c-8563-46e7-c1c2-7a16892d89bf"
      },
      "execution_count": 77,
      "outputs": [
        {
          "output_type": "stream",
          "name": "stdout",
          "text": [
            "Hill Climbing with Misplace Tiles:\n",
            "Iteration 1 : Neighbor [[3, 1, 2], [0, 4, 5], [6, 7, 8]] h= 1\n",
            "Iteration 2 : Neighbor [[0, 1, 2], [3, 4, 5], [6, 7, 8]] h= 0\n",
            "Solution found after 3 iterations.\n",
            " \n",
            "Solution [[0, 1, 2], [3, 4, 5], [6, 7, 8]] h= 0\n",
            "\n",
            "\n",
            "\n",
            "Hill Climbing with Manhattan Distance:\n",
            "Iteration 1 : Neighbor [[3, 1, 2], [0, 4, 5], [6, 7, 8]] h= 1\n",
            "Iteration 2 : Neighbor [[0, 1, 2], [3, 4, 5], [6, 7, 8]] h= 0\n",
            "Solution found after 3 iterations.\n",
            " \n",
            "Solution [[0, 1, 2], [3, 4, 5], [6, 7, 8]] h= 0\n"
          ]
        }
      ]
    },
    {
      "cell_type": "markdown",
      "source": [
        "##Simulated Annealing Algorithm"
      ],
      "metadata": {
        "id": "W2SaxQ-gG48Y"
      }
    },
    {
      "cell_type": "code",
      "source": [
        "def simulated_annealing(initial_state, heuristic_function, schedule_function):\n",
        "  current_state = initial_state\n",
        "  iterations = 0\n",
        "  while True:\n",
        "    iterations += 1\n",
        "    if current_state == goal_state or iterations >= 1000:\n",
        "        break\n",
        "    T = schedule_function(iterations)\n",
        "    if T == 0:\n",
        "      break\n",
        "\n",
        "    successors_states = successors(current_state)\n",
        "    next_state = random.choice(successors_states)\n",
        "    delta_E = heuristic_function(next_state) - heuristic_function(current_state)\n",
        "    if delta_E < 0 or random.random() < math.exp(-delta_E / T):\n",
        "      currtent_state = next_state\n",
        "\n",
        "\n",
        "  #Calculate heuristic cost of the solution\n",
        "  solution_heuristic = heuristic_function(current_state)\n",
        "  return current_state, solution_heuristic, iterations\n"
      ],
      "metadata": {
        "id": "mwrUcFhyHAbh"
      },
      "execution_count": 78,
      "outputs": []
    },
    {
      "cell_type": "code",
      "source": [
        "##Cooling scheduling function\n",
        "def cooling_schedule(iterations):\n",
        "  return 1/iterations\n"
      ],
      "metadata": {
        "id": "Il0HsYqEI9XS"
      },
      "execution_count": 79,
      "outputs": []
    },
    {
      "cell_type": "code",
      "source": [
        "print(\"Simulated Annealing with Misplace Tiles:\")\n",
        "solution, heuristic_cost, iterations = simulated_annealing(initial_state, misplace_tiles, cooling_schedule)\n",
        "print(\"Solution:\", solution)\n",
        "print(\"Heuristic cost of the solution:\", heuristic_cost)\n",
        "print(\"Number of Iterations needed to reach solution:\", iterations)\n",
        "\n",
        "print(\"\\n\")\n",
        "\n",
        "print(\"Simulated Annealing with Manhattan Distance:\")\n",
        "solution, heuristic_cost, iterations = simulated_annealing(initial_state,manhattan_distance, cooling_schedule)\n",
        "print(\"Solution:\", solution)\n",
        "print(\"Heuristic cost of the solution:\", heuristic_cost)\n",
        "print(\"Number of Iterations needed to reach solution:\", iterations)\n"
      ],
      "metadata": {
        "colab": {
          "base_uri": "https://localhost:8080/"
        },
        "id": "KkrukRWMqPeh",
        "outputId": "2b4a6dfd-9775-4623-8bd7-63f7f69e4543"
      },
      "execution_count": 80,
      "outputs": [
        {
          "output_type": "stream",
          "name": "stdout",
          "text": [
            "Simulated Annealing with Misplace Tiles:\n",
            "Solution: [[3, 1, 2], [6, 4, 5], [0, 7, 8]]\n",
            "Heuristic cost of the solution: 2\n",
            "Number of Iterations needed to reach solution: 1000\n",
            "\n",
            "\n",
            "Simulated Annealing with Manhattan Distance:\n",
            "Solution: [[3, 1, 2], [6, 4, 5], [0, 7, 8]]\n",
            "Heuristic cost of the solution: 2\n",
            "Number of Iterations needed to reach solution: 1000\n"
          ]
        }
      ]
    }
  ]
}